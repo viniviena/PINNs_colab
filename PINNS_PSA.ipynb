{
  "nbformat": 4,
  "nbformat_minor": 0,
  "metadata": {
    "colab": {
      "name": "PINNS_PSA.ipynb",
      "provenance": [],
      "mount_file_id": "19I15f6GXanBQ-AwvkqwYFbqaBCECVov6",
      "authorship_tag": "ABX9TyOo4hIURsHQp9zvOy6utjdt",
      "include_colab_link": true
    },
    "kernelspec": {
      "name": "python3",
      "display_name": "Python 3"
    },
    "language_info": {
      "name": "python"
    }
  },
  "cells": [
    {
      "cell_type": "markdown",
      "metadata": {
        "id": "view-in-github",
        "colab_type": "text"
      },
      "source": [
        "<a href=\"https://colab.research.google.com/github/viniviena/PINNs_colab/blob/main/PINNS_PSA.ipynb\" target=\"_parent\"><img src=\"https://colab.research.google.com/assets/colab-badge.svg\" alt=\"Open In Colab\"/></a>"
      ]
    },
    {
      "cell_type": "markdown",
      "metadata": {
        "id": "v-_7B9Im1CTo"
      },
      "source": [
        "or create a new repository on the command line\n",
        "echo \"# PINNs_colab\" >> README.md\n",
        "git init\n",
        "git add README.md\n",
        "git commit -m \"first commit\"\n",
        "git branch -M main\n",
        "git remote add origin https://github.com/viniviena/PINNs_colab.git\n",
        "git push -u origin main\n",
        "…or push an existing repository from the command line\n",
        "git remote add origin https://github.com/viniviena/PINNs_colab.git\n",
        "git branch -M main\n",
        "git push -u origin main"
      ]
    },
    {
      "cell_type": "code",
      "metadata": {
        "id": "5CN9efVJ3JZx"
      },
      "source": [
        ""
      ],
      "execution_count": null,
      "outputs": []
    },
    {
      "cell_type": "code",
      "metadata": {
        "id": "Gw5vcAPj10ij"
      },
      "source": [
        "#!pip install deepxde"
      ],
      "execution_count": 3,
      "outputs": []
    },
    {
      "cell_type": "code",
      "metadata": {
        "colab": {
          "base_uri": "https://localhost:8080/"
        },
        "id": "9MRRlTjq1mhi",
        "outputId": "43cdf0d5-f904-4d8f-8c7d-c095628f92aa"
      },
      "source": [
        "from __future__ import absolute_import\n",
        "from __future__ import division\n",
        "from __future__ import print_function\n",
        "import os\n",
        "os.environ[\"CUDA_VISIBLE_DEVICES\"] = \"-1\"\n",
        "import matplotlib.pyplot as plt\n",
        "import numpy as np\n",
        "import tensorflow as tf\n",
        "import deepxde as dde"
      ],
      "execution_count": 4,
      "outputs": [
        {
          "output_type": "stream",
          "text": [
            "Deepxde backend not selected or invalid. Assuming tensorflow.compat.v1 for now.\n",
            "Using backend: tensorflow.compat.v1\n",
            "\n"
          ],
          "name": "stderr"
        },
        {
          "output_type": "stream",
          "text": [
            "Setting the default backend to \"tensorflow.compat.v1\". You can change it in the ~/.deepxde/config.json file or export the DDEBACKEND environment variable. Valid options are: tensorflow.compat.v1, tensorflow, pytorch (all lowercase)\n",
            "WARNING:tensorflow:From /usr/local/lib/python3.7/dist-packages/tensorflow/python/compat/v2_compat.py:101: disable_resource_variables (from tensorflow.python.ops.variable_scope) is deprecated and will be removed in a future version.\n",
            "Instructions for updating:\n",
            "non-resource variables are not supported in the long term\n",
            "WARNING:tensorflow:From /usr/local/lib/python3.7/dist-packages/deepxde/nn/initializers.py:120: The name tf.keras.initializers.he_normal is deprecated. Please use tf.compat.v1.keras.initializers.he_normal instead.\n",
            "\n"
          ],
          "name": "stdout"
        }
      ]
    },
    {
      "cell_type": "code",
      "metadata": {
        "id": "7BRmScFs19YH"
      },
      "source": [
        "def model(epochs):\n",
        "    L          = 0.5\n",
        "    epsb       = 0.38     #ok\n",
        "    Dax        = 5.46e-4  #ok\n",
        "    Rp         = 2e-3     #ok\n",
        "    dp         = 2*Rp     #ok\n",
        "    apM        = 3/Rp     #ok\n",
        "    kf         = 1.32e-2  #ok\n",
        "    visc       = 1.48e-5  #ok\n",
        "    Mw1        = 44e-1    #ok\n",
        "    Mw2        = 16e-3    #ok\n",
        "    lbda       = 14.6     #ok\n",
        "    Cpmix      = 37.06    #ok\n",
        "    Rg         = 8.31415  #ok\n",
        "    hf         = 28.6     #ok\n",
        "    hw         = 120      #ok\n",
        "    dw         = 0.0211   #ok\n",
        "    Cvmix      = 28.74    #ok\n",
        "    Dp1        = 4.49e-6  #ok\n",
        "    Dp2        = 4.49e-6  #ok\n",
        "    rhoap      = 850      #ok\n",
        "    epsp       = 0.433    #ok\n",
        "    Bii1       = (apM*kf*Rp**2)/(15*epsp*Dp1) #ok\n",
        "    Bii2       = (apM*kf*Rp**2)/(15*epsp*Dp2) #ok\n",
        "    Dm10       = 1.24e7   #ok\n",
        "    Dm20       = 1.30e7   #ok\n",
        "    Edm1       = 11424    #ok\n",
        "    Edm2       = 8042     #ok\n",
        "    kinf1_1    = 1.198e-5 #ok\n",
        "    kinf1_2    = 7.451e-5 #ok\n",
        "    kinf2_1    = 8.28e-5  #ok\n",
        "    kinf2_2    = 6.558e-6 #ok\n",
        "    MDH1_1     = 25387    #ok\n",
        "    MDH1_2     = 17871    #ok\n",
        "    MDH2_1     = 26665    #ok\n",
        "    MDH2_2     = 29857    #ok\n",
        "    qmax1_1    = 6.023    #ok\n",
        "    qmax1_2    = 4.662    #ok\n",
        "    qmax2_1    = 1.248    #ok\n",
        "    qmax2_2    = 1.291    #ok\n",
        "    roap       = 850      #ok\n",
        "    rob        = (1-epsb)*roap #ok\n",
        "    Cv1        = 28.919 #ok\n",
        "    Cv2        = 27.663 #ok\n",
        "    Cps        = 1046 #ok\n",
        "    row        = 8238 #ok\n",
        "    Cpw        = 500 #ok\n",
        "    alfaw      = 456 #ok\n",
        "    alfawl     = 496 #ok\n",
        "    U          = 40 #ok\n",
        "    Tinf       = 303 #ok\n",
        "    Phigh      = 1.9e5 #ok\n",
        "    Tinlet     = 303 #ok\n",
        "    Cinlet     = Phigh/Rg/Tinlet #ok\n",
        "    y1feed     = 0.865 #ok\n",
        "    y2feed     = 0.135 #ok\n",
        "    QfeedSLPM  = 0.5 #ok\n",
        "    Dw         = 0.0211 #ok\n",
        "    bed_area   = 3.1415*(Dw/2)**2 #ok\n",
        "    u0_inlet   = QfeedSLPM*Tinlet/273*1e5/Phigh/1000/60/bed_area #ok"
      ],
      "execution_count": null,
      "outputs": []
    }
  ]
}