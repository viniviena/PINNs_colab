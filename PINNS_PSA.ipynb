{
  "nbformat": 4,
  "nbformat_minor": 0,
  "metadata": {
    "colab": {
      "name": "PINNS_PSA.ipynb",
      "provenance": [],
      "authorship_tag": "ABX9TyM+3f1LB8JY86eYtzWLWHhR",
      "include_colab_link": true
    },
    "kernelspec": {
      "name": "python3",
      "display_name": "Python 3"
    },
    "language_info": {
      "name": "python"
    }
  },
  "cells": [
    {
      "cell_type": "markdown",
      "metadata": {
        "id": "view-in-github",
        "colab_type": "text"
      },
      "source": [
        "<a href=\"https://colab.research.google.com/github/viniviena/PINNs_colab/blob/main/PINNS_PSA.ipynb\" target=\"_parent\"><img src=\"https://colab.research.google.com/assets/colab-badge.svg\" alt=\"Open In Colab\"/></a>"
      ]
    },
    {
      "cell_type": "markdown",
      "metadata": {
        "id": "v-_7B9Im1CTo"
      },
      "source": [
        "or create a new repository on the command line\n",
        "echo \"# PINNs_colab\" >> README.md\n",
        "git init\n",
        "git add README.md\n",
        "git commit -m \"first commit\"\n",
        "git branch -M main\n",
        "git remote add origin https://github.com/viniviena/PINNs_colab.git\n",
        "git push -u origin main\n",
        "…or push an existing repository from the command line\n",
        "git remote add origin https://github.com/viniviena/PINNs_colab.git\n",
        "git branch -M main\n",
        "git push -u origin main"
      ]
    }
  ]
}